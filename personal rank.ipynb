{
 "cells": [
  {
   "cell_type": "code",
   "execution_count": 1,
   "metadata": {},
   "outputs": [],
   "source": [
    "import numpy as np"
   ]
  },
  {
   "cell_type": "code",
   "execution_count": 2,
   "metadata": {},
   "outputs": [],
   "source": [
    "A=[\n",
    "    [4,3,0,5,0],\n",
    "    [5,0,4,4,0],\n",
    "    [4,0,5,0,3],\n",
    "    [2,3,0,1,0],\n",
    "    [0,4,2,0,5]\n",
    "]"
   ]
  },
  {
   "cell_type": "code",
   "execution_count": 4,
   "metadata": {},
   "outputs": [],
   "source": [
    "A=np.array(A)"
   ]
  },
  {
   "cell_type": "code",
   "execution_count": 6,
   "metadata": {},
   "outputs": [
    {
     "data": {
      "text/plain": [
       "(5, 5)"
      ]
     },
     "execution_count": 6,
     "metadata": {},
     "output_type": "execute_result"
    }
   ],
   "source": [
    "A.shape"
   ]
  },
  {
   "cell_type": "code",
   "execution_count": 13,
   "metadata": {},
   "outputs": [],
   "source": [
    "def data_processing(x):\n",
    "    data=[]\n",
    "    for i in range(x.shape[0]):\n",
    "        temp=[]\n",
    "        for j in range(x.shape[1]):\n",
    "            if x[i][j]==0:\n",
    "                temp.append(0)\n",
    "            else:\n",
    "                temp.append(1)\n",
    "        data.append(temp)\n",
    "    return data"
   ]
  },
  {
   "cell_type": "code",
   "execution_count": 14,
   "metadata": {},
   "outputs": [
    {
     "data": {
      "text/plain": [
       "[[1, 1, 0, 1, 0],\n",
       " [1, 0, 1, 1, 0],\n",
       " [1, 0, 1, 0, 1],\n",
       " [1, 1, 0, 1, 0],\n",
       " [0, 1, 1, 0, 1]]"
      ]
     },
     "execution_count": 14,
     "metadata": {},
     "output_type": "execute_result"
    }
   ],
   "source": [
    "data_processing(A)"
   ]
  },
  {
   "cell_type": "code",
   "execution_count": 15,
   "metadata": {},
   "outputs": [],
   "source": [
    "def generate_dict(dataTmp):\n",
    "\t'''将用户-商品矩阵转换成二部图的表示\n",
    "\tinput:  dataTmp(mat):用户商品矩阵\n",
    "\toutput: data_dict(dict):图的表示\n",
    "\t'''\n",
    "\tm, n = np.shape(dataTmp)\n",
    "\n",
    "\tdata_dict = {}\n",
    "\t# 对每一个用户生成节点\n",
    "\tfor i in range(m):\n",
    "\t\ttmp_dict = {}\n",
    "\t\tfor j in range(n):\n",
    "\t\t\tif dataTmp[i, j] != 0:\n",
    "\t\t\t\ttmp_dict[\"D_\" + str(j)] = dataTmp[i, j]\n",
    "\t\tdata_dict[\"U_\" + str(i)] = tmp_dict\n",
    "\n",
    "\t# 对每一个商品生成节点\n",
    "\tfor j in range(n):\n",
    "\t\ttmp_dict = {}\n",
    "\t\tfor i in range(m):\n",
    "\t\t\tif dataTmp[i, j] != 0:\n",
    "\t\t\t\ttmp_dict[\"U_\" + str(i)] = dataTmp[i, j]\n",
    "\t\tdata_dict[\"D_\" + str(j)] = tmp_dict\n",
    "\treturn data_dict"
   ]
  },
  {
   "cell_type": "code",
   "execution_count": 16,
   "metadata": {},
   "outputs": [],
   "source": [
    "def PersonalRank(data_dict, alpha, user, maxCycles):\n",
    "\t'''利用PersonalRank打分\n",
    "\tinput:  data_dict(dict):用户-商品的二部图表示\n",
    "\t\t\talpha(float):概率\n",
    "\t\t\tuser(string):指定用户\n",
    "\t\t\tmaxCycles(int):最大的迭代次数\n",
    "\toutput: rank(dict):打分的列表\n",
    "\t'''\n",
    "\t# 1、初始化打分\n",
    "\trank = {}\n",
    "\tfor x in data_dict.keys():\n",
    "\t\trank[x] = 0\n",
    "\trank[user] = 1  # 从user开始游走\n",
    "\n",
    "\t# 2、迭代\n",
    "\tstep = 0\n",
    "\twhile step < maxCycles:\n",
    "\t\ttmp = {}\n",
    "\t\tfor x in data_dict.keys():\n",
    "\t\t\ttmp[x] = 0\n",
    "\n",
    "\t\tfor i, ri in data_dict.items():\n",
    "\t\t\tfor j in ri.keys():\n",
    "\t\t\t\tif j not in tmp:\n",
    "\t\t\t\t\ttmp[j] = 0\n",
    "\t\t\t\ttmp[j] += alpha * rank[i] / (1.0 * len(ri))\n",
    "\t\t\t\tif j == user:\n",
    "\t\t\t\t\ttmp[j] += (1 - alpha)\n",
    "\t\t# 判断是否收敛\n",
    "\t\tcheck = []\n",
    "\t\tfor k in tmp.keys():\n",
    "\t\t\tcheck.append(tmp[k] - rank[k])\n",
    "\t\tif sum(check) <= 0.0001:\n",
    "\t\t\tbreak\n",
    "\t\trank = tmp\n",
    "\t\tif step % 20 == 0:\n",
    "\t\t\tprint(\n",
    "\t\t\t\"iter: \", step)\n",
    "\t\tstep = step + 1\n",
    "\treturn rank"
   ]
  },
  {
   "cell_type": "code",
   "execution_count": 20,
   "metadata": {},
   "outputs": [],
   "source": [
    "datamat=np.mat(data_processing(A))"
   ]
  },
  {
   "cell_type": "code",
   "execution_count": 21,
   "metadata": {},
   "outputs": [],
   "source": [
    "data_dict=generate_dict(datamat)"
   ]
  },
  {
   "cell_type": "code",
   "execution_count": 24,
   "metadata": {},
   "outputs": [
    {
     "name": "stdout",
     "output_type": "stream",
     "text": [
      "iter:  0\n",
      "iter:  20\n",
      "iter:  40\n"
     ]
    },
    {
     "data": {
      "text/plain": [
       "{'D_0': 0.40555832841159833,\n",
       " 'D_1': 0.3419589631501934,\n",
       " 'D_2': 0.1711298436120938,\n",
       " 'D_3': 0.35482680386602944,\n",
       " 'D_4': 0.10449676372091332,\n",
       " 'U_0': 0.7336363128884573,\n",
       " 'U_1': 0.2352347290192902,\n",
       " 'U_2': 0.17911159250522568,\n",
       " 'U_3': 0.28363631288845725,\n",
       " 'U_4': 0.18981882061031582}"
      ]
     },
     "execution_count": 24,
     "metadata": {},
     "output_type": "execute_result"
    }
   ],
   "source": [
    "PersonalRank(data_dict, 0.85, \"U_0\", 1000)"
   ]
  },
  {
   "cell_type": "code",
   "execution_count": 26,
   "metadata": {},
   "outputs": [
    {
     "name": "stdout",
     "output_type": "stream",
     "text": [
      "iter:  0\n",
      "iter:  20\n",
      "iter:  40\n"
     ]
    }
   ],
   "source": [
    "rank=PersonalRank(data_dict, 0.85, \"U_0\", 1000)"
   ]
  },
  {
   "cell_type": "code",
   "execution_count": 25,
   "metadata": {},
   "outputs": [],
   "source": [
    "\n",
    "def recommend(data_dict, rank, user):\n",
    "\t'''得到最终的推荐列表\n",
    "\tinput:  data_dict(dict):用户-商品的二部图表示\n",
    "\t\t\trank(dict):打分的结果\n",
    "\t\t\tuser(string):用户\n",
    "\toutput: result(dict):推荐结果\n",
    "\t'''\n",
    "\titems_dict = {}\n",
    "\t# 1、用户user已打过分的项\n",
    "\titems = []\n",
    "\tfor k in data_dict[user].keys():\n",
    "\t\titems.append(k)\n",
    "\n",
    "\t# 2、从rank取出商品的打分\n",
    "\tfor k in rank.keys():\n",
    "\t\tif k.startswith(\"D_\"):  # 商品\n",
    "\t\t\tif k not in items:  # 排除已经互动过的商品\n",
    "\t\t\t\titems_dict[k] = rank[k]\n",
    "\n",
    "\t# 3、按打分的降序排序\n",
    "\tresult = sorted(items_dict.items(), key=lambda d: d[1], reverse=True)\n",
    "\treturn result"
   ]
  },
  {
   "cell_type": "code",
   "execution_count": 27,
   "metadata": {},
   "outputs": [
    {
     "data": {
      "text/plain": [
       "[('D_2', 0.1711298436120938), ('D_4', 0.10449676372091332)]"
      ]
     },
     "execution_count": 27,
     "metadata": {},
     "output_type": "execute_result"
    }
   ],
   "source": [
    "recommend(data_dict,rank,\"U_0\")"
   ]
  },
  {
   "cell_type": "code",
   "execution_count": null,
   "metadata": {},
   "outputs": [],
   "source": []
  }
 ],
 "metadata": {
  "kernelspec": {
   "display_name": "Python 3",
   "language": "python",
   "name": "python3"
  },
  "language_info": {
   "codemirror_mode": {
    "name": "ipython",
    "version": 3
   },
   "file_extension": ".py",
   "mimetype": "text/x-python",
   "name": "python",
   "nbconvert_exporter": "python",
   "pygments_lexer": "ipython3",
   "version": "3.6.4"
  }
 },
 "nbformat": 4,
 "nbformat_minor": 2
}
