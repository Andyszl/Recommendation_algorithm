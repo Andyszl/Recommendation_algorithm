{
 "cells": [
  {
   "cell_type": "code",
   "execution_count": 58,
   "metadata": {},
   "outputs": [],
   "source": [
    "def cos_sim(x,y):\n",
    "    '''\n",
    "    余弦相似性\n",
    "    input:  x(mat):以行向量的形式存储，可以是用户或者商品\n",
    "            y(mat):以行向量的形式存储，可以是用户或者商品\n",
    "    output: x和y之间的余弦相似度\n",
    "    '''\n",
    "    numerator=np.dot(x,y.T)#x和y之间的内机\n",
    "    denominator = np.sqrt(np.dot(x,x.T))*np.sqrt(np.dot(y,y.T))\n",
    "    return (numerator/denominator)"
   ]
  },
  {
   "cell_type": "code",
   "execution_count": 71,
   "metadata": {},
   "outputs": [],
   "source": [
    "def similarity(data):\n",
    "    '''\n",
    "    计算矩阵中任意两行之间的相似度\n",
    "    input:  data(mat):任意矩阵\n",
    "    output: w(mat):任意两行之间的相似度\n",
    "    '''\n",
    "    m = np.shape(data)[0]#用户的数量\n",
    "    #初始化相似度矩阵\n",
    "    w = np.mat(np.zeros((m,m)))\n",
    "    for i in range(m):\n",
    "        for j in range(i,m):\n",
    "            if i!=j:\n",
    "                #计算任意两行之间的相似度\n",
    "                w[i,j] = cos_sim(data[i,],data[j,])\n",
    "                w[j,i] = w[i,j]\n",
    "            else:\n",
    "                w[i,j]=0#约定自身的相似度为0\n",
    "    return w\n"
   ]
  },
  {
   "cell_type": "code",
   "execution_count": 47,
   "metadata": {},
   "outputs": [],
   "source": [
    "import numpy as np"
   ]
  },
  {
   "cell_type": "code",
   "execution_count": 68,
   "metadata": {},
   "outputs": [],
   "source": [
    "A=[\n",
    "    [4,3,0,5,0],\n",
    "    [5,0,4,4,0],\n",
    "    [4,0,5,0,3],\n",
    "    [2,3,0,1,0],\n",
    "    [0,4,2,0,5]\n",
    "]"
   ]
  },
  {
   "cell_type": "code",
   "execution_count": 69,
   "metadata": {},
   "outputs": [],
   "source": [
    "A=np.array(A)"
   ]
  },
  {
   "cell_type": "code",
   "execution_count": 72,
   "metadata": {},
   "outputs": [
    {
     "data": {
      "text/plain": [
       "matrix([[0.        , 0.74926865, 0.32      , 0.83152184, 0.25298221],\n",
       "        [0.74926865, 0.        , 0.74926865, 0.49559463, 0.1579597 ],\n",
       "        [0.32      , 0.74926865, 0.        , 0.30237158, 0.52704628],\n",
       "        [0.83152184, 0.49559463, 0.30237158, 0.        , 0.47809144],\n",
       "        [0.25298221, 0.1579597 , 0.52704628, 0.47809144, 0.        ]])"
      ]
     },
     "execution_count": 72,
     "metadata": {},
     "output_type": "execute_result"
    }
   ],
   "source": [
    "similarity(A)"
   ]
  },
  {
   "cell_type": "code",
   "execution_count": null,
   "metadata": {},
   "outputs": [],
   "source": []
  },
  {
   "cell_type": "markdown",
   "metadata": {},
   "source": [
    "##### 基于用户的协同过滤"
   ]
  },
  {
   "cell_type": "code",
   "execution_count": 112,
   "metadata": {},
   "outputs": [],
   "source": [
    "def user_base_recommend(data,w,user):\n",
    "    '''\n",
    "     基于用户相似性为用户user推荐商品\n",
    "     input:  data(mat):用户商品矩阵\n",
    "            w(mat):用户之间的相似度\n",
    "            user(int):用户的编号\n",
    "     output: predict(list):推荐列表\n",
    "    '''\n",
    "    m,n=np.shape(data)\n",
    "    interaction = data[user,]#用户user与商品信息\n",
    "    #先找到用户user没有打过分的商品\n",
    "    not_inter = []\n",
    "    for i in range(n):#n商品数量\n",
    "        if interaction[i]==0:#没有打分的商品\n",
    "            not_inter.append(i)\n",
    "    #print(not_inter)\n",
    "    #对没有打分的商品进行预测\n",
    "    predict={}\n",
    "    for x in not_inter:\n",
    "        item = np.copy(data[:,x])#找到所有用户对商品x的打分信息\n",
    "        for i in range(m):#对所有的用户\n",
    "            if item[i] != 0:#如果用户对商品x打过分\n",
    "                if x not in predict:\n",
    "                    predict[x]=w[user,i]*item[i]\n",
    "                    \n",
    "                else:\n",
    "                    predict[x] = predict[x]+w[user,i]*item[i]\n",
    "                    \n",
    "        #按照预测的大小排序\n",
    "    return sorted(predict.items(),key=lambda d:d[1],reverse=True)\n",
    "            "
   ]
  },
  {
   "cell_type": "code",
   "execution_count": 113,
   "metadata": {},
   "outputs": [
    {
     "data": {
      "text/plain": [
       "[(2, 5.10303902268836), (4, 2.2249110640673515)]"
      ]
     },
     "execution_count": 113,
     "metadata": {},
     "output_type": "execute_result"
    }
   ],
   "source": [
    "user_base_recommend(A,w,0)"
   ]
  },
  {
   "cell_type": "code",
   "execution_count": 114,
   "metadata": {},
   "outputs": [],
   "source": [
    "def top_k(predict,k):\n",
    "    '''为用户推荐前k个商品\n",
    "    input:  predict(list):排好序的商品列表\n",
    "            k(int):推荐的商品个数\n",
    "    output: top_recom(list):top_k个商品\n",
    "    '''\n",
    "    top_recom=[]\n",
    "    len_r = len(predict)#计算有多少待推荐商品\n",
    "    if k>=len_r:#如果需要推荐的个数大于待推荐的数量，直接输出\n",
    "        top_recom=predict\n",
    "    else:\n",
    "        for i in range(k):\n",
    "            top_recom.append(predict[i])\n",
    "            \n",
    "    return top_recom"
   ]
  },
  {
   "cell_type": "code",
   "execution_count": 121,
   "metadata": {},
   "outputs": [],
   "source": [
    "k=2"
   ]
  },
  {
   "cell_type": "code",
   "execution_count": 122,
   "metadata": {},
   "outputs": [],
   "source": [
    "result=top_k(user_base_recommend(A,w,0),k)"
   ]
  },
  {
   "cell_type": "code",
   "execution_count": 125,
   "metadata": {},
   "outputs": [
    {
     "name": "stdout",
     "output_type": "stream",
     "text": [
      "给User_0推荐的商品有:商品2,打分为5.103\n",
      "给User_0推荐的商品有:商品4,打分为2.225\n"
     ]
    }
   ],
   "source": [
    "k=2\n",
    "result=top_k(user_base_recommend(A,w,0),k)\n",
    "for i in range(k):\n",
    "    print(\"给User_0推荐的商品有:商品%d,打分为%.3f\"%(result[i][0],result[i][1]))"
   ]
  },
  {
   "cell_type": "code",
   "execution_count": null,
   "metadata": {},
   "outputs": [],
   "source": []
  },
  {
   "cell_type": "code",
   "execution_count": null,
   "metadata": {},
   "outputs": [],
   "source": []
  },
  {
   "cell_type": "markdown",
   "metadata": {},
   "source": [
    "##### 基于Item协同过滤"
   ]
  },
  {
   "cell_type": "code",
   "execution_count": 126,
   "metadata": {},
   "outputs": [],
   "source": [
    "B=A.T"
   ]
  },
  {
   "cell_type": "code",
   "execution_count": 128,
   "metadata": {},
   "outputs": [
    {
     "data": {
      "text/plain": [
       "array([[4, 5, 4, 2, 0],\n",
       "       [3, 0, 0, 3, 4],\n",
       "       [0, 4, 5, 0, 2],\n",
       "       [5, 4, 0, 1, 0],\n",
       "       [0, 0, 3, 0, 5]])"
      ]
     },
     "execution_count": 128,
     "metadata": {},
     "output_type": "execute_result"
    }
   ],
   "source": [
    "B"
   ]
  },
  {
   "cell_type": "code",
   "execution_count": 129,
   "metadata": {},
   "outputs": [
    {
     "data": {
      "text/plain": [
       "matrix([[0.        , 0.39524659, 0.76346445, 0.82977382, 0.26349773],\n",
       "        [0.39524659, 0.        , 0.204524  , 0.47633051, 0.58823529],\n",
       "        [0.76346445, 0.204524  , 0.        , 0.36803496, 0.63913749],\n",
       "        [0.82977382, 0.47633051, 0.36803496, 0.        , 0.        ],\n",
       "        [0.26349773, 0.58823529, 0.63913749, 0.        , 0.        ]])"
      ]
     },
     "execution_count": 129,
     "metadata": {},
     "output_type": "execute_result"
    }
   ],
   "source": [
    "similarity(B)"
   ]
  },
  {
   "cell_type": "code",
   "execution_count": 131,
   "metadata": {},
   "outputs": [],
   "source": [
    "def Item_base_recommend(data,w,user):\n",
    "    '''基于商品相似度为用户user推荐商品\n",
    "    input:  data(mat):商品用户矩阵\n",
    "            w(mat):商品与商品之间的相似性\n",
    "            user(int):用户的编号\n",
    "    output: predict(list):推荐列表\n",
    "    '''\n",
    "    m,n=np.shape(data)#m是商品数量，n是用户数量\n",
    "    interaction = data[:,user].T#用户user与商品信息\n",
    "    #先找到用户user没有打过分的商品\n",
    "    not_inter = []\n",
    "    for i in range(n):#n商品数量\n",
    "        if interaction[i]==0:#没有打分的商品\n",
    "            not_inter.append(i)\n",
    "    #print(not_inter)\n",
    "    #对没有打分的商品进行预测\n",
    "    predict={}\n",
    "    for x in not_inter:\n",
    "        item = np.copy(interaction)#找到用户对所有商品的打分信息\n",
    "        for j in range(m):#对所有的用户\n",
    "            if item[j] != 0:#如果用户对商品x打过分\n",
    "                if x not in predict:\n",
    "                    predict[x]=w[x,j]*item[j]\n",
    "                    \n",
    "                else:\n",
    "                    predict[x] = predict[x]+w[x,j]*item[j]\n",
    "                    \n",
    "        #按照预测的大小排序\n",
    "    return sorted(predict.items(),key=lambda d:d[1],reverse=True)\n",
    "            "
   ]
  },
  {
   "cell_type": "code",
   "execution_count": 132,
   "metadata": {},
   "outputs": [
    {
     "data": {
      "text/plain": [
       "[(2, 5.507604598998138), (4, 2.8186967825714824)]"
      ]
     },
     "execution_count": 132,
     "metadata": {},
     "output_type": "execute_result"
    }
   ],
   "source": [
    "Item_base_recommend(B,similarity(B),0)"
   ]
  },
  {
   "cell_type": "code",
   "execution_count": null,
   "metadata": {},
   "outputs": [],
   "source": []
  }
 ],
 "metadata": {
  "kernelspec": {
   "display_name": "Python 3",
   "language": "python",
   "name": "python3"
  },
  "language_info": {
   "codemirror_mode": {
    "name": "ipython",
    "version": 3
   },
   "file_extension": ".py",
   "mimetype": "text/x-python",
   "name": "python",
   "nbconvert_exporter": "python",
   "pygments_lexer": "ipython3",
   "version": "3.6.4"
  }
 },
 "nbformat": 4,
 "nbformat_minor": 2
}
